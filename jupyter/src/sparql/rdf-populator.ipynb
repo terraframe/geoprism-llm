{
 "cells": [
  {
   "cell_type": "code",
   "execution_count": null,
   "metadata": {},
   "outputs": [
    {
     "name": "stdout",
     "output_type": "stream",
     "text": [
      "Cleaning database\n",
      "Querying trig dataset\n",
      "Populating database\n"
     ]
    }
   ],
   "source": [
    "from rdflib import Dataset, Literal\n",
    "from rdflib.namespace import XSD\n",
    "import requests\n",
    "\n",
    "try:\n",
    "    print('Cleaning database')\n",
    "\n",
    "    # Clean the database\n",
    "    \n",
    "    print('Loading trig dataset')\n",
    "\n",
    "    dataset = Dataset()\n",
    "    dataset.parse(\"data/model.trig\", \"format=trig\")\n",
    "    \n",
    "    print('Populating database')\n",
    "\n",
    "    for c in dataset.graphs():  # doctest: +SKIP\n",
    "        if 'deliverable2024' in str(c.identifier):\n",
    "          \n",
    "            limit = 10000\n",
    "            skip = 0\n",
    "            count = 1\n",
    "          \n",
    "            while(count > 0):\n",
    "              count = 0\n",
    "              query = (\n",
    "                f\"SELECT ?s ?p ?o WHERE {{?s ?p ?o}} LIMIT {limit} OFFSET {skip}\"\n",
    "              )\n",
    "              \n",
    "              qres = c.query(query)\n",
    "             \n",
    "              for row in qres:\n",
    "                headers = {\n",
    "                    'Content-Type': 'application/x-www-form-urlencoded',\n",
    "                }\n",
    "                \n",
    "                if(type(row.o) is Literal) :                \n",
    "                  \n",
    "                  data = (\n",
    "                    f\"update=INSERT DATA {{ <{row.s}> <{row.p}> '{row.o}' . }}\"\n",
    "                  )\n",
    "                else :\n",
    "                  data = (\n",
    "                    f\"update=INSERT DATA {{ <{row.s}> <{row.p}> <{row.o}> . }}\"\n",
    "                  )\n",
    "                  \n",
    "                # print(data)\n",
    "                                  \n",
    "                response = requests.post('https://neptune.geoprism.net:8181/sparql', headers=headers, data=data)\n",
    "                \n",
    "                # print(response)\n",
    "                count += 1\n",
    "\n",
    "              skip += limit              \n",
    "              print((f\"Finished {skip}\"))    \n",
    "finally:\n",
    "    print('done')"
   ]
  }
 ],
 "metadata": {
  "kernelspec": {
   "display_name": "Python 3",
   "language": "python",
   "name": "python3"
  },
  "language_info": {
   "codemirror_mode": {
    "name": "ipython",
    "version": 3
   },
   "file_extension": ".py",
   "mimetype": "text/x-python",
   "name": "python",
   "nbconvert_exporter": "python",
   "pygments_lexer": "ipython3",
   "version": "3.10.0"
  }
 },
 "nbformat": 4,
 "nbformat_minor": 2
}
