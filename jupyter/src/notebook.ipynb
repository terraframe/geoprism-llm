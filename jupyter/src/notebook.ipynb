{
 "cells": [
  {
   "cell_type": "code",
   "execution_count": 4,
   "metadata": {},
   "outputs": [
    {
     "data": {
      "text/plain": [
       "False"
      ]
     },
     "execution_count": 4,
     "metadata": {},
     "output_type": "execute_result"
    }
   ],
   "source": [
    "from typing import Any, List, Optional\n",
    "\n",
    "from langchain_core.documents import Document\n",
    "from rdflib import Dataset\n",
    "from rdflib import Dataset\n",
    "from rdflib.namespace import RDF\n",
    "import os \n",
    "from dotenv import load_dotenv\n",
    "from langchain_community.llms import Ollama\n",
    "from langchain_community.embeddings import OllamaEmbeddings\n",
    "\n",
    "load_dotenv()\n",
    "\n"
   ]
  },
  {
   "cell_type": "code",
   "execution_count": 5,
   "metadata": {},
   "outputs": [],
   "source": [
    "# g = Dataset()\n",
    "# g.parse(\"data/connected-to.trig\", \"format=trig\")\n",
    "\n",
    "# for count, (ns, np, o, nz) in enumerate(g.quads((None, None, None, None))): \n",
    "#     if count < 1000:        \n",
    "#         s =ns.split('#')[1] if '#' in ns else ns\n",
    "#         p =np.split('#')[1] if '#' in np else np\n",
    "#         z =nz.split('#')[1] if '#' in nz else nz\n",
    "        \n",
    "#         property = None\n",
    "\n",
    "#         #if(p.endswith(\"-uid\")): property = 'uid'\n",
    "#         #if(p.endswith(\"-code\")): property = 'code'\n",
    "#         if(p.endswith(\"-displayLabel\")): property = 'label'\n",
    "\n",
    "#         if(property != None): \n",
    "#             split = s.split(\"-\")\n",
    "#             type = split[0]\n",
    "#             code = split[1]\n",
    "\n",
    "#             typeLabel = None\n",
    "\n",
    "#             if(type.endswith(\"ChannelReach\")): typeLabel = 'channel reach'\n",
    "#             if(type.endswith(\"Project\")): typeLabel = 'project'\n",
    "#             if(type.endswith(\"Dam\")): typeLabel = 'dam'\n",
    "\n",
    "#             if(len(o) > 0): \n",
    "#                     docs.append(Document(\n",
    "#                         page_content=f\"The location {o} has the code {code}.\"\n",
    "#                     ))        \n",
    "# print(docs)\n"
   ]
  },
  {
   "cell_type": "code",
   "execution_count": 6,
   "metadata": {},
   "outputs": [],
   "source": [
    "# from typing import List\n",
    "\n",
    "# from langchain_core.documents import Document\n",
    "\n",
    "# docs: List[Document] = []\n",
    "\n",
    "# docs.append(Document(page_content=f\"The school South Park High School is within school district Park Couny School District\"))\n",
    "# docs.append(Document(page_content=f\"The school Guffey Charter School is within school district Park Couny School District\"))\n",
    "# docs.append(Document(page_content=f\"The school Lake George Charter School is within school district Park Couny School District\"))\n",
    "# docs.append(Document(page_content=f\"The school South Park Middle School is within school district Park Couny School District\"))\n",
    "# docs.append(Document(page_content=f\"The school Edith Teter Elementary School is within school district Park Couny School District\"))\n",
    "\n",
    "# docs.append(Document(page_content=f\"The school Lawrence Elementary School is within school district Jefferson Couny School District\"))\n",
    "# docs.append(Document(page_content=f\"The school Falcon Bluffs Middle School is within school district Jefferson Couny School District\"))\n",
    "# docs.append(Document(page_content=f\"The school Summit Ridge Middle School is within school district Jefferson Couny School District\"))\n",
    "# docs.append(Document(page_content=f\"The school Kyffin Elementary School is within school district Jefferson Couny School District\"))\n",
    "# docs.append(Document(page_content=f\"The school Mount View Youth Services Center is within school district Jefferson Couny School District\"))\n",
    "# docs.append(Document(page_content=f\"The school South Lakewood Elementary School is within school district Jefferson Couny School District\"))\n",
    "\n",
    "# docs.append(Document(page_content=f\"The school Flagstone Elementary School is within school district Douglas Couny School District\"))\n",
    "# docs.append(Document(page_content=f\"The school Highlands Ranch High School is within school district Douglas Couny School District\"))\n",
    "# docs.append(Document(page_content=f\"The school Fox Creek Elementary School is within school district Douglas Couny School District\"))\n",
    "# docs.append(Document(page_content=f\"The school Parker Performing Arts is within school district Douglas Couny School District\"))\n",
    "# docs.append(Document(page_content=f\"The school Leman Classical Academy is within school district Douglas Couny School District\"))\n",
    "# docs.append(Document(page_content=f\"The school Stem School Highlands Ranch is within school district Douglas Couny School District\"))\n",
    "\n",
    "# print(docs)\n"
   ]
  },
  {
   "cell_type": "code",
   "execution_count": 7,
   "metadata": {},
   "outputs": [
    {
     "name": "stdout",
     "output_type": "stream",
     "text": [
      "[Document(page_content='The school NORTHSIDE ELEMENTARY is within the school district Black Oak Mine Unified School District. The school GEORGETOWN ELEMENTARY is within the school district Black Oak Mine Unified School District. The school AMERICAN RIVER CHARTER is within the school district Black Oak Mine Unified School District. The school GOLDEN SIERRA JUNIOR SENIOR HIGH is within the school district Black Oak Mine Unified School District. The school OTTER CREEK ELEMENTARY is within the school district Black Oak Mine Unified School District. The school DIVIDE HIGH is within the school district Black Oak Mine Unified School District. ', metadata={'zone': 'Black Oak Mine Unified School District', 'code': '0605240'}), Document(page_content='The school DATELAND ELEMENTARY SCHOOL is within the school district Hyder Elementary District. ', metadata={'zone': 'Hyder Elementary District', 'code': '0403900'}), Document(page_content='The school BELLAIRE ELEMENTARY SCHOOL is within the school district Bellaire Local School District. The school BELLAIRE HIGH SCHOOL is within the school district Bellaire Local School District. The school BELLAIRE MIDDLE SCHOOL is within the school district Bellaire Local School District. ', metadata={'zone': 'Bellaire Local School District', 'code': '3904357'}), Document(page_content='The school STEWART COUNTY ADULT HIGH SCHOOL is within the school district Stewart County School District. The school HIGHLAND RIM HEAD START is within the school district Stewart County School District. The school STEWART COUNTY MIDDLE SCHOOL is within the school district Stewart County School District. The school STEWART CO HIGH SCHOOL is within the school district Stewart County School District. The school DOVER ELEMENTARY is within the school district Stewart County School District. The school NORTH STEWART ELEMENTARY is within the school district Stewart County School District. ', metadata={'zone': 'Stewart County School District', 'code': '4703960'}), Document(page_content='The school JENKINS INDEPENDENT SCHOOL is within the school district Jenkins Independent School District. ', metadata={'zone': 'Jenkins Independent School District', 'code': '2103000'}), Document(page_content='The school VALDEZ HIGH SCHOOL is within the school district Valdez City School District. The school VALDEZ HOME SCHOOL is within the school district Valdez City School District. The school HERMON HUTCHENS ELEMENTARY is within the school district Valdez City School District. The school GEORGE H. GILSON MIDDLE SCHOOL is within the school district Valdez City School District. ', metadata={'zone': 'Valdez City School District', 'code': '0200780'}), Document(page_content='The school HOBBS WILLIAMS EL is within the school district Grand Prairie Independent School District. The school CROCKETT EARLY EDUCATION SCHOOL is within the school district Grand Prairie Independent School District. The school ADVANTAGE ACADEMY is within the school district Grand Prairie Independent School District. The school DIGITAL ARTS & TECHNOLOGY ACADEMY AT ADAMS MIDDLE is within the school district Grand Prairie Independent School District. The school SOUTH GRAND PRAIRIE H S is within the school district Grand Prairie Independent School District. The school RONALD W REAGAN MIDDLE is within the school district Grand Prairie Independent School District. The school SAM RAYBURN EL STEAM ACADEMY is within the school district Grand Prairie Independent School District. The school ERVIN C WHITT EL is within the school district Grand Prairie Independent School District. The school JOHN A DUBISKI CAREER H S is within the school district Grand Prairie Independent School District. The school JAMES BOWIE FINE ARTS ACADEMY is within the school district Grand Prairie Independent School District. The school GRAND PRAIRIE FINE ARTS ACADEMY is within the school district Grand Prairie Independent School District. The school SALLYE R MOORE COLLEGE & CAREER PREPARATORY is within the school district Grand Prairie Independent School District. The school CROSSWINDS ACCELERATED H S is within the school district Grand Prairie Independent School District. The school JAMES FANNIN MIDDLE is within the school district Grand Prairie Independent School District. The school UPLIFT DELMAS MORTON PREPARATORY is within the school district Grand Prairie Independent School District. The school SUZANNA DICKINSON EL is within the school district Grand Prairie Independent School District. The school UPLIFT GRAND H S is within the school district Grand Prairie Independent School District. The school GRAND PRAIRIE COLLEGIATE INSTITUTE is within the school district Grand Prairie Independent School District. The school JUAN N SEGUIN EL is within the school district Grand Prairie Independent School District. The school HARMONY SCHOOL OF INNOVATION - GRAND PRAIRIE is within the school district Grand Prairie Independent School District. The school THURGOOD MARSHALL LEADERSHIP ACADEMY is within the school district Grand Prairie Independent School District. The school DELMAS F MORTON EL is within the school district Grand Prairie Independent School District. The school SCHOOL FOR THE HIGHLY GIFTED is within the school district Grand Prairie Independent School District. The school UPLIFT EDUCATION - UPLIFT GRAND PREPARATORY is within the school district Grand Prairie Independent School District. The school UPLIFT DELMAS MORTON PREPARATORY AT UPLIFT GRAND is within the school district Grand Prairie Independent School District. The school GRAND PRAIRIE H S is within the school district Grand Prairie Independent School District. The school YMLA AT JOHN F KENNEDY MIDDLE is within the school district Grand Prairie Independent School District. The school UPLIFT GRAND SECONDARY is within the school district Grand Prairie Independent School District. The school LORENZO DE ZAVALA ENVIRONMENTAL SCIENCE ACADEMY is within the school district Grand Prairie Independent School District. The school ELLEN OCHOA STEM ACADEMY AT BEN MILIAM EL is within the school district Grand Prairie Independent School District. The school GARNER FINE ARTS ACADEMY is within the school district Grand Prairie Independent School District. The school FLORENCE HILL EL is within the school district Grand Prairie Independent School District. The school GOLDEN RULE GRAND PRAIRIE is within the school district Grand Prairie Independent School District. The school STEPHEN F AUSTIN ENVIRONMENTAL SCIENCE ACADEMY is within the school district Grand Prairie Independent School District. The school ANDREW JACKSON MIDDLE is within the school district Grand Prairie Independent School District. The school MIKE MOSELEY EL is within the school district Grand Prairie Independent School District. The school DAVID DANIELS EL ACADEMY OF SCIENCE & MATH is within the school district Grand Prairie Independent School District. The school HARRY S TRUMAN MIDDLE is within the school district Grand Prairie Independent School District. The school GLOBAL LEADERSHIP ACADEMY AT BARBARA BUSH EL is within the school district Grand Prairie Independent School District. The school BONHAM EES is within the school district Grand Prairie Independent School District. The school HECTOR P GARCIA EL is within the school district Grand Prairie Independent School District. The school YWLA AT BILL ARNOLD is within the school district Grand Prairie Independent School District. The school DWIGHT D EISENHOWER EL is within the school district Grand Prairie Independent School District. The school WILLIAM B TRAVIS WORLD LANGUAGE ACADEMY is within the school district Grand Prairie Independent School District. The school COLIN POWELL EL is within the school district Grand Prairie Independent School District. The school LYNDON B JOHNSON DAEP is within the school district Grand Prairie Independent School District. The school HARMONY SCIENCE ACADEMY - GRAND PRAIRIE is within the school district Grand Prairie Independent School District. ', metadata={'zone': 'Grand Prairie Independent School District', 'code': '4821420'}), Document(page_content='The school TAHOLAH ELEMENTARY & MIDDLE SCHOOL is within the school district Taholah School District. The school TAHOLAH HIGH SCHOOL is within the school district Taholah School District. ', metadata={'zone': 'Taholah School District', 'code': '5308730'}), Document(page_content='The school GREEN RIVER HIGH is within the school district Emery School District. The school EMERY HIGH is within the school district Emery School District. The school BOOK CLIFF SCHOOL is within the school district Emery School District. The school CANYON VIEW JR HIGH is within the school district Emery School District. The school CLEVELAND SCHOOL is within the school district Emery School District. The school COTTONWOOD SCHOOL is within the school district Emery School District. The school SAN RAFAEL MIDDLE SCHOOL is within the school district Emery School District. The school CASTLE DALE SCHOOL is within the school district Emery School District. The school HUNTINGTON SCHOOL is within the school district Emery School District. The school FERRON SCHOOL is within the school district Emery School District. ', metadata={'zone': 'Emery School District', 'code': '4900270'}), Document(page_content='The school MINSTER JR/SR HIGH SCHOOL is within the school district Minster Local School District. The school MINSTER ELEMENTARY SCHOOL is within the school district Minster Local School District. ', metadata={'zone': 'Minster Local School District', 'code': '3904594'})]\n"
     ]
    }
   ],
   "source": [
    "docs: List[Document] = []\n",
    "\n",
    "dataset = Dataset()\n",
    "dataset.parse(\"data/lpg-schools/schools.trig\", \"format=trig\")\n",
    "\n",
    "outer_query = \"\"\"\n",
    "PREFIX lpgvs: <https://localhost:4200/lpg/SchoolZone/1/rdfs#>\n",
    "PREFIX lpgs: <https://localhost:4200/lpg/rdfs#>\n",
    "\n",
    "SELECT ?zoneCode ?zoneLabel\n",
    "WHERE {\n",
    "    ?zone a lpgvs:SchoolZone .\n",
    "    ?zone lpgs:GeoObjectType-code ?zoneCode .\n",
    "    ?zone lpgs:GeoObjectType-displayLabel ?zoneLabel .\n",
    "}\n",
    "LIMIT 10\"\"\"\n",
    "\n",
    "for c in dataset.graphs():  # doctest: +SKIP\n",
    "    qres = c.query(outer_query)\n",
    "    for row in qres:\n",
    "        page_content = \"\"\n",
    "\n",
    "        inner_query = (\n",
    "        f\"PREFIX lpgvs: <https://localhost:4200/lpg/SchoolZone/1/rdfs#>\\n\"\n",
    "        f\"PREFIX lpgs: <https://localhost:4200/lpg/rdfs#>\\n\"\n",
    "        \n",
    "        f\"SELECT ?schoolCode ?schoolLabel\\n\"\n",
    "        f\"WHERE {{\\n\"\n",
    "        f\"    ?parent lpgvs:HasSchoolZone lpgv:SchoolZone-{row.zoneCode} .\\n\"\n",
    "        f\"    ?parent lpgs:GeoObjectType-code ?schoolCode .\\n\"\n",
    "        f\"    ?parent lpgs:GeoObjectType-displayLabel ?schoolLabel .\\n\"\n",
    "        f\"}}\\n\"\n",
    "        f\"LIMIT 100\\n\")\n",
    "\n",
    "        ires = c.query(inner_query)\n",
    "        for result in ires:\n",
    "            page_content += f\"The school {result.schoolLabel} is within the school district {row.zoneLabel}. \"\n",
    "\n",
    "        docs.append(Document(\n",
    "            page_content=page_content,\n",
    "            metadata={'zone':f\"{row.zoneLabel}\", 'code': f\"{row.zoneCode}\", 'source': \"rdf\"}\n",
    "        ))        \n",
    "\n",
    "\n",
    "print(docs)\n"
   ]
  },
  {
   "cell_type": "code",
   "execution_count": 8,
   "metadata": {},
   "outputs": [],
   "source": [
    "MODEL = 'llama2'\n",
    "#MODEL = 'mixtral'\n",
    "\n",
    "model = Ollama(model=MODEL)\n",
    "embeddings = OllamaEmbeddings()\n"
   ]
  },
  {
   "cell_type": "code",
   "execution_count": null,
   "metadata": {},
   "outputs": [],
   "source": [
    "from langchain_elasticsearch import ElasticsearchStore\n",
    "from uuid import uuid4\n",
    "\n",
    "vectorstore = ElasticsearchStore(\n",
    "    es_url=\"http://localhost:9200\",\n",
    "    index_name=\"langchain_index\",\n",
    "    embedding=embeddings,\n",
    "    es_user=\"elastic\",\n",
    "    es_password=\"elastic\",\n",
    ")\n",
    "\n",
    "uuids = [str(uuid4()) for _ in range(len(docs))]\n",
    "\n",
    "vectorstore.add_documents(documents=docs, ids=uuids)"
   ]
  },
  {
   "cell_type": "code",
   "execution_count": 12,
   "metadata": {},
   "outputs": [],
   "source": [
    "# from langchain_community.vectorstores import DocArrayInMemorySearch\n",
    "\n",
    "# vectorstore = DocArrayInMemorySearch.from_documents(docs, embedding=embeddings)"
   ]
  },
  {
   "cell_type": "code",
   "execution_count": 9,
   "metadata": {},
   "outputs": [
    {
     "data": {
      "text/plain": [
       "\"Sure, here's one:\\n\\nWhy don't scientists trust atoms?\\nBecause they make up everything!\\n\\nI hope you found that amusing! Do you want to hear another one?\""
      ]
     },
     "execution_count": 9,
     "metadata": {},
     "output_type": "execute_result"
    }
   ],
   "source": [
    "from langchain_core.output_parsers import StrOutputParser\n",
    "\n",
    "parser = StrOutputParser()\n",
    "\n",
    "chain = model | parser\n",
    "chain.invoke('Tell me a joke')"
   ]
  },
  {
   "cell_type": "code",
   "execution_count": 10,
   "metadata": {},
   "outputs": [
    {
     "name": "stdout",
     "output_type": "stream",
     "text": [
      "\n",
      "You are an assistant for question-answering tasks. Use the following pieces of retrieved context to answer the question. If you don't know the answer, just say that you don't know. Use three sentences maximum and keep the answer concise.\n",
      "\n",
      "Question: Here is a question \n",
      "\n",
      "Context: Here is some context \n",
      "\n",
      "Answer:\n",
      "\n"
     ]
    }
   ],
   "source": [
    "from langchain.prompts import PromptTemplate\n",
    "\n",
    "template = \"\"\"\n",
    "You are an assistant for question-answering tasks. Use the following pieces of retrieved context to answer the question. If you don't know the answer, just say that you don't know. Use three sentences maximum and keep the answer concise.\n",
    "\n",
    "Question: {question} \n",
    "\n",
    "Context: {context} \n",
    "\n",
    "Answer:\n",
    "\"\"\"\n",
    "\n",
    "prompt = PromptTemplate.from_template(template)\n",
    "\n",
    "print(prompt.format(context=\"Here is some context\", question=\"Here is a question\"))\n",
    "\n",
    "chain = prompt | model | parser"
   ]
  },
  {
   "cell_type": "code",
   "execution_count": 11,
   "metadata": {},
   "outputs": [
    {
     "data": {
      "text/plain": [
       "{'title': 'PromptInput',\n",
       " 'type': 'object',\n",
       " 'properties': {'context': {'title': 'Context', 'type': 'string'},\n",
       "  'question': {'title': 'Question', 'type': 'string'}}}"
      ]
     },
     "execution_count": 11,
     "metadata": {},
     "output_type": "execute_result"
    }
   ],
   "source": [
    "chain.input_schema.schema()"
   ]
  },
  {
   "cell_type": "code",
   "execution_count": 13,
   "metadata": {},
   "outputs": [],
   "source": [
    "from operator import itemgetter\n",
    "\n",
    "retriever = vectorstore.as_retriever(\n",
    "    search_type=\"similarity_score_threshold\", search_kwargs={\"score_threshold\": 0.2}\n",
    ")\n",
    "\n",
    "chain = (\n",
    "    {\n",
    "        \"context\": itemgetter('question') | retriever,\n",
    "        \"question\": itemgetter('question')\n",
    "    } | \n",
    "prompt | model | parser)\n"
   ]
  },
  {
   "cell_type": "code",
   "execution_count": 14,
   "metadata": {},
   "outputs": [
    {
     "data": {
      "text/plain": [
       "[Document(page_content='The school HOBBS WILLIAMS EL is within the school district Grand Prairie Independent School District. The school CROCKETT EARLY EDUCATION SCHOOL is within the school district Grand Prairie Independent School District. The school ADVANTAGE ACADEMY is within the school district Grand Prairie Independent School District. The school DIGITAL ARTS & TECHNOLOGY ACADEMY AT ADAMS MIDDLE is within the school district Grand Prairie Independent School District. The school SOUTH GRAND PRAIRIE H S is within the school district Grand Prairie Independent School District. The school RONALD W REAGAN MIDDLE is within the school district Grand Prairie Independent School District. The school SAM RAYBURN EL STEAM ACADEMY is within the school district Grand Prairie Independent School District. The school ERVIN C WHITT EL is within the school district Grand Prairie Independent School District. The school JOHN A DUBISKI CAREER H S is within the school district Grand Prairie Independent School District. The school JAMES BOWIE FINE ARTS ACADEMY is within the school district Grand Prairie Independent School District. The school GRAND PRAIRIE FINE ARTS ACADEMY is within the school district Grand Prairie Independent School District. The school SALLYE R MOORE COLLEGE & CAREER PREPARATORY is within the school district Grand Prairie Independent School District. The school CROSSWINDS ACCELERATED H S is within the school district Grand Prairie Independent School District. The school JAMES FANNIN MIDDLE is within the school district Grand Prairie Independent School District. The school UPLIFT DELMAS MORTON PREPARATORY is within the school district Grand Prairie Independent School District. The school SUZANNA DICKINSON EL is within the school district Grand Prairie Independent School District. The school UPLIFT GRAND H S is within the school district Grand Prairie Independent School District. The school GRAND PRAIRIE COLLEGIATE INSTITUTE is within the school district Grand Prairie Independent School District. The school JUAN N SEGUIN EL is within the school district Grand Prairie Independent School District. The school HARMONY SCHOOL OF INNOVATION - GRAND PRAIRIE is within the school district Grand Prairie Independent School District. The school THURGOOD MARSHALL LEADERSHIP ACADEMY is within the school district Grand Prairie Independent School District. The school DELMAS F MORTON EL is within the school district Grand Prairie Independent School District. The school SCHOOL FOR THE HIGHLY GIFTED is within the school district Grand Prairie Independent School District. The school UPLIFT EDUCATION - UPLIFT GRAND PREPARATORY is within the school district Grand Prairie Independent School District. The school UPLIFT DELMAS MORTON PREPARATORY AT UPLIFT GRAND is within the school district Grand Prairie Independent School District. The school GRAND PRAIRIE H S is within the school district Grand Prairie Independent School District. The school YMLA AT JOHN F KENNEDY MIDDLE is within the school district Grand Prairie Independent School District. The school UPLIFT GRAND SECONDARY is within the school district Grand Prairie Independent School District. The school LORENZO DE ZAVALA ENVIRONMENTAL SCIENCE ACADEMY is within the school district Grand Prairie Independent School District. The school ELLEN OCHOA STEM ACADEMY AT BEN MILIAM EL is within the school district Grand Prairie Independent School District. The school GARNER FINE ARTS ACADEMY is within the school district Grand Prairie Independent School District. The school FLORENCE HILL EL is within the school district Grand Prairie Independent School District. The school GOLDEN RULE GRAND PRAIRIE is within the school district Grand Prairie Independent School District. The school STEPHEN F AUSTIN ENVIRONMENTAL SCIENCE ACADEMY is within the school district Grand Prairie Independent School District. The school ANDREW JACKSON MIDDLE is within the school district Grand Prairie Independent School District. The school MIKE MOSELEY EL is within the school district Grand Prairie Independent School District. The school DAVID DANIELS EL ACADEMY OF SCIENCE & MATH is within the school district Grand Prairie Independent School District. The school HARRY S TRUMAN MIDDLE is within the school district Grand Prairie Independent School District. The school GLOBAL LEADERSHIP ACADEMY AT BARBARA BUSH EL is within the school district Grand Prairie Independent School District. The school BONHAM EES is within the school district Grand Prairie Independent School District. The school HECTOR P GARCIA EL is within the school district Grand Prairie Independent School District. The school YWLA AT BILL ARNOLD is within the school district Grand Prairie Independent School District. The school DWIGHT D EISENHOWER EL is within the school district Grand Prairie Independent School District. The school WILLIAM B TRAVIS WORLD LANGUAGE ACADEMY is within the school district Grand Prairie Independent School District. The school COLIN POWELL EL is within the school district Grand Prairie Independent School District. The school LYNDON B JOHNSON DAEP is within the school district Grand Prairie Independent School District. The school HARMONY SCIENCE ACADEMY - GRAND PRAIRIE is within the school district Grand Prairie Independent School District. ', metadata={'zone': 'Grand Prairie Independent School District', 'code': '4821420'}),\n",
       " Document(page_content='The school BELLAIRE ELEMENTARY SCHOOL is within the school district Bellaire Local School District. The school BELLAIRE HIGH SCHOOL is within the school district Bellaire Local School District. The school BELLAIRE MIDDLE SCHOOL is within the school district Bellaire Local School District. ', metadata={'zone': 'Bellaire Local School District', 'code': '3904357'}),\n",
       " Document(page_content='The school NORTHSIDE ELEMENTARY is within the school district Black Oak Mine Unified School District. The school GEORGETOWN ELEMENTARY is within the school district Black Oak Mine Unified School District. The school AMERICAN RIVER CHARTER is within the school district Black Oak Mine Unified School District. The school GOLDEN SIERRA JUNIOR SENIOR HIGH is within the school district Black Oak Mine Unified School District. The school OTTER CREEK ELEMENTARY is within the school district Black Oak Mine Unified School District. The school DIVIDE HIGH is within the school district Black Oak Mine Unified School District. ', metadata={'zone': 'Black Oak Mine Unified School District', 'code': '0605240'}),\n",
       " Document(page_content='The school GREEN RIVER HIGH is within the school district Emery School District. The school EMERY HIGH is within the school district Emery School District. The school BOOK CLIFF SCHOOL is within the school district Emery School District. The school CANYON VIEW JR HIGH is within the school district Emery School District. The school CLEVELAND SCHOOL is within the school district Emery School District. The school COTTONWOOD SCHOOL is within the school district Emery School District. The school SAN RAFAEL MIDDLE SCHOOL is within the school district Emery School District. The school CASTLE DALE SCHOOL is within the school district Emery School District. The school HUNTINGTON SCHOOL is within the school district Emery School District. The school FERRON SCHOOL is within the school district Emery School District. ', metadata={'zone': 'Emery School District', 'code': '4900270'}),\n",
       " Document(page_content='The school STEWART COUNTY ADULT HIGH SCHOOL is within the school district Stewart County School District. The school HIGHLAND RIM HEAD START is within the school district Stewart County School District. The school STEWART COUNTY MIDDLE SCHOOL is within the school district Stewart County School District. The school STEWART CO HIGH SCHOOL is within the school district Stewart County School District. The school DOVER ELEMENTARY is within the school district Stewart County School District. The school NORTH STEWART ELEMENTARY is within the school district Stewart County School District. ', metadata={'zone': 'Stewart County School District', 'code': '4703960'})]"
      ]
     },
     "execution_count": 14,
     "metadata": {},
     "output_type": "execute_result"
    }
   ],
   "source": [
    "retriever.invoke('GEORGETOWN ELEMENTARY')"
   ]
  },
  {
   "cell_type": "code",
   "execution_count": 15,
   "metadata": {},
   "outputs": [
    {
     "data": {
      "text/plain": [
       "'The school district of GEORGETOWN ELEMENTARY is GRAND PRAIRIE INDEPENDENT SCHOOL DISTRICT.'"
      ]
     },
     "execution_count": 15,
     "metadata": {},
     "output_type": "execute_result"
    }
   ],
   "source": [
    "chain.invoke({\n",
    "    \"question\": \"What is the school district of GEORGETOWN ELEMENTARY?\",\n",
    "})"
   ]
  },
  {
   "cell_type": "code",
   "execution_count": 16,
   "metadata": {},
   "outputs": [
    {
     "name": "stdout",
     "output_type": "stream",
     "text": [
      "Question: What is the school district of GEORGETOWN ELEMENTARY school?\n",
      "Answer: I don't know the school district of GEORGETOWN ELEMENTARY school. The context you provided does not contain enough information to determine the school district. Please provide more context or clarify which question you are asking so I can better assist you.\n",
      "\n",
      "Question: What is the school district of Highlands Ranch High School?\n",
      "Answer: Sure! Here are the schools mentioned in the text, along with their locations and districts:\n",
      "\n",
      "1. Environmental Science Academy - within Grand Prairie Independent School District\n",
      "2. Andrew Jackson Middle - within Grand Prairie Independent School District\n",
      "3. Mike Mosley El - within Grand Prairie Independent School District\n",
      "4. David Daniels El Academy of Science & Math - within Grand Prairie Independent School District\n",
      "5. Harry S Truman Middle - within Grand Prairie Independent School District\n",
      "6. Global Leadership Academy at Barbara Bush El - within Grand Prairie Independent School District\n",
      "7. Bonham EES - within Grand Prairie Independent School District\n",
      "8. Hector P Garcia El - within Grand Prairie Independent School District\n",
      "9. YWLA at Bill Arnold - within Grand Prairie Independent School District\n",
      "10. Dwight D Eisenhower El - within Grand Prairie Independent School District\n",
      "11. William B Travis World Language Academy - within Grand Prairie Independent School District\n",
      "12. Colin Powell El - within Grand Prairie Independent School District\n",
      "13. Lyndon B Johnson Daep - within Grand Prairie Independent School District\n",
      "14. Harmony Science Academy - Grand Prairie - within Grand Prairie Independent School District\n",
      "15. Northside Elementary - within Black Oak Mine Unified School District\n",
      "16. Georgetown Elementary - within Black Oak Mine Unified School District\n",
      "17. American River Charter - within Black Oak Mine Unified School District\n",
      "18. Golden Sierra Junior Senior High - within Black Oak Mine Unified School District\n",
      "19. Otter Creek Elementary - within Black Oak Mine Unified School District\n",
      "20. Divide High - within Black Oak Mine Unified School District\n",
      "21. Bellaire Elementary School - within Bellaire Local School District\n",
      "22. Bellaire High School - within Bellaire Local School District\n",
      "23. Bellaire Middle School - within Bellaire Local School District\n",
      "24. Green River High - within Emery School District\n",
      "25. Emery High - within Emery School District\n",
      "26. Book Cliff School - within Emery School District\n",
      "27. Canyon View Jr High - within Emery School District\n",
      "28. Cleveland School - within Emery School District\n",
      "29. Cottonwood School - within Emery School District\n",
      "30. San Rafael Middle School - within Emery School District\n",
      "31. Castle Dale School - within Emery School District\n",
      "32. Huntington School - within Emery School District\n",
      "33. Ferrron School - within Emery School District\n",
      "34. Stewart County Adult High School - within Stewart County School District\n",
      "35. Highland Rim Head Start - within Stewart County School District\n",
      "36. Stewart County Middle School - within Stewart County School District\n",
      "37. Stewart Co High School - within Stewart County School District\n",
      "38. Dover Elementary - within Stewart County School District\n",
      "39. North Stewart Elementary - within Stewart County School District\n",
      "\n",
      "Question: What is the school district of COMMUNITY PARTNERSHIP CHARTER SCHOOL?\n",
      "Answer: I apologize, but I don't know the school district of COMMUNITY PARTNERSHIP CHARTER SCHOOL. The retrieved context does not provide enough information to determine the school district it belongs to.\n",
      "\n",
      "Question: What schools are part of the Black Oak Mine Unified School District?\n"
     ]
    }
   ],
   "source": [
    "questions = [\n",
    "    \"What is the school district of GEORGETOWN ELEMENTARY school?\",\n",
    "    \"What is the school district of Highlands Ranch High School?\",\n",
    "    \"What is the school district of COMMUNITY PARTNERSHIP CHARTER SCHOOL?\",\n",
    "    \"What schools are part of the Black Oak Mine Unified School District?\"\n",
    "]\n",
    "\n",
    "for question in questions:\n",
    "    print(f\"Question: {question}\")\n",
    "    print(f\"Answer: {chain.invoke({'question': question })}\")\n",
    "    print()"
   ]
  }
 ],
 "metadata": {
  "kernelspec": {
   "display_name": "Python 3",
   "language": "python",
   "name": "python3"
  },
  "language_info": {
   "codemirror_mode": {
    "name": "ipython",
    "version": 3
   },
   "file_extension": ".py",
   "mimetype": "text/x-python",
   "name": "python",
   "nbconvert_exporter": "python",
   "pygments_lexer": "ipython3",
   "version": "3.10.0"
  }
 },
 "nbformat": 4,
 "nbformat_minor": 2
}
